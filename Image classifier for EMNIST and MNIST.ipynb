{
 "cells": [
  {
   "cell_type": "code",
   "execution_count": 1,
   "metadata": {
    "_cell_guid": "7895e00d-59b7-470e-a65e-c008617370a3",
    "_uuid": "5b241cad-f0e5-4671-b8ad-3256b1d577fb"
   },
   "outputs": [],
   "source": [
    "import io\n",
    "import time\n",
    "import gzip\n",
    "\n",
    "import numpy as np\n",
    "import pandas as pd\n",
    "\n",
    "%matplotlib inline\n",
    "from matplotlib import pyplot as plt\n",
    "\n",
    "import torch\n",
    "import torch.nn as nn\n",
    "import torch.optim as optim\n",
    "import torch.nn.functional as F"
   ]
  },
  {
   "cell_type": "code",
   "execution_count": 2,
   "metadata": {
    "_cell_guid": "37803019-24b7-474e-bebc-d99398de57c4",
    "_uuid": "8dd3e28d-d258-42a9-be76-98b247407226"
   },
   "outputs": [],
   "source": [
    "device = torch.device(\"cuda\" if torch.cuda.is_available() else \"cpu\")"
   ]
  },
  {
   "cell_type": "code",
   "execution_count": 3,
   "metadata": {
    "_cell_guid": "538410b9-5545-44cd-9241-a6804577528e",
    "_uuid": "648082de-1ea5-4d56-831c-487be6969b80"
   },
   "outputs": [],
   "source": [
    "class NeuralNet(nn.Module):\n",
    "    def __init__(self, num_class):\n",
    "        super().__init__()\n",
    "        self.conv1 = nn.Conv2d(1, 32, 5)\n",
    "        self.conv2 = nn.Conv2d(32, 64, 5)\n",
    "        self.fc1 = nn.Linear(4 * 4 * 64, 1024)\n",
    "        self.fc2 = nn.Linear(1024, 512)\n",
    "        self.fc3 = nn.Linear(512, num_class)\n",
    "\n",
    "    def forward(self, x):\n",
    "        x = F.max_pool2d(F.relu(self.conv1(x)), (2, 2))\n",
    "        x = F.max_pool2d(F.relu(self.conv2(x)), 2)\n",
    "        x = x.view(-1, 4 * 4 * 64)\n",
    "        x = F.relu(self.fc1(x))\n",
    "        x = F.relu(self.fc2(x))\n",
    "        x = F.log_softmax(self.fc3(x), dim=1)\n",
    "        return x"
   ]
  },
  {
   "cell_type": "markdown",
   "metadata": {
    "_cell_guid": "1a7fd2ef-5b1b-4500-9601-0bc04ac5e163",
    "_uuid": "eb9aa6a7-282c-483a-a334-5c5505b60400"
   },
   "source": [
    "### some handy functions"
   ]
  },
  {
   "cell_type": "code",
   "execution_count": 4,
   "metadata": {
    "_cell_guid": "5d2c0de4-8a83-4ea4-8ba5-b92bdafe13da",
    "_uuid": "34767a1e-6978-479e-a79f-ce4265171d0b"
   },
   "outputs": [],
   "source": [
    "def parse_image(file_path):\n",
    "    if file_path.endswith(\".gz\"):\n",
    "        file_handler = gzip\n",
    "    else:\n",
    "        file_handler = io\n",
    "    with file_handler.open(file_path, 'rb') as file_stream:\n",
    "        parsed_magic_number = int(file_stream.read(4).hex(), 16)\n",
    "        expected_magic_number = 0x00000803\n",
    "        if expected_magic_number == parsed_magic_number:\n",
    "            count = int(file_stream.read(4).hex(), 16)\n",
    "            row_count = int(file_stream.read(4).hex(), 16)\n",
    "            col_count = int(file_stream.read(4).hex(), 16)\n",
    "            return np.frombuffer(file_stream.read(count * row_count * col_count), dtype=np.uint8).reshape(count, row_count, col_count)\n",
    "        else:\n",
    "            print(\"magic number mismatch, expected: {}, got: {}\".format(expected_magic_number, parsed_magic_number))\n",
    "\n",
    "\n",
    "def parse_label(file_path):\n",
    "    if file_path.endswith(\".gz\"):\n",
    "        file_handler = gzip\n",
    "    else:\n",
    "        file_handler = io\n",
    "    with file_handler.open(file_path, 'rb') as file_stream:\n",
    "        parsed_magic_number = int(file_stream.read(4).hex(), 16)\n",
    "        expected_magic_number = 0x00000801\n",
    "        if expected_magic_number == parsed_magic_number:\n",
    "            count = int(file_stream.read(4).hex(), 16)\n",
    "            return np.frombuffer(file_stream.read(count), dtype=np.uint8)\n",
    "        else:\n",
    "            print(\"magic number mismatch, expected: {}, got: {}\".format(expected_magic_number, parsed_magic_number))\n",
    "\n",
    "\n",
    "def shuffle(x, y):\n",
    "    assert x.shape[0] == y.shape[0]\n",
    "    permute = np.random.permutation(x.shape[0])\n",
    "    return x[permute], y[permute]\n",
    "\n",
    "\n",
    "def train(model, optimizer, device, x_train, y_train, BATCH_SIZE=1000, EPOCH_SIZE=32):\n",
    "    x_train = torch.as_tensor(x_train, dtype=torch.float).reshape(-1, 1, 28, 28)\n",
    "    y_train = torch.as_tensor(y_train, dtype=torch.long)\n",
    "    model.train()\n",
    "    print(\"Training\")\n",
    "    for epoch_idx in range(EPOCH_SIZE):\n",
    "        start_time = time.time()\n",
    "        x_train, y_train = shuffle(x_train, y_train)\n",
    "        x_train_shape_0 = x_train.shape[0]\n",
    "        for batch_start_idx in range(0, x_train_shape_0, BATCH_SIZE):\n",
    "            batch_end_idx = min(batch_start_idx + BATCH_SIZE, x_train_shape_0)\n",
    "            \n",
    "            device_x_train = x_train[batch_start_idx : batch_end_idx].to(device)\n",
    "            device_y_train = y_train[batch_start_idx : batch_end_idx].to(device)\n",
    "            optimizer.zero_grad()\n",
    "            output = model(device_x_train)\n",
    "            loss = F.nll_loss(output, device_y_train)\n",
    "            loss.backward()\n",
    "            optimizer.step()\n",
    "        print(\"{0:2d}: loss = {1:8.4f},  {2:10.4f}s\".format(epoch_idx, loss.item(), time.time() - start_time))\n",
    "\n",
    "\n",
    "def evaluate(model, device, x_test, y_test, BATCH_SIZE=1000):\n",
    "    x_test = torch.as_tensor(x_test, dtype=torch.float).reshape(-1, 1, 28, 28)\n",
    "    y_test = torch.as_tensor(y_test, dtype=torch.long)\n",
    "    model.eval()\n",
    "    total_loss, correct = 0, 0\n",
    "    with torch.no_grad():\n",
    "        start_time = time.time()\n",
    "        x_test, y_test = shuffle(x_test, y_test)\n",
    "        x_test_shape_0 = x_test.shape[0]\n",
    "        for batch_start_idx in range(0, x_test_shape_0, BATCH_SIZE):\n",
    "            batch_end_idx = min(batch_start_idx + BATCH_SIZE, x_test_shape_0)\n",
    "            \n",
    "            device_x_test = x_test[batch_start_idx : batch_end_idx].to(device)\n",
    "            device_y_test = y_test[batch_start_idx : batch_end_idx].to(device)\n",
    "            output = model(device_x_test)\n",
    "            total_loss += F.nll_loss(output, device_y_test, reduction='sum').item() # sum up batch loss\n",
    "            prediction = output.argmax(dim=1, keepdim=True) # get the index of the max log-probability\n",
    "            correct += prediction.eq(device_y_test.view_as(prediction)).sum().item()\n",
    "        print(\"Test: {}/{} = {:.4f}, {:.4f}, {:.4f}s\".format(\n",
    "                                                        correct, batch_end_idx, correct / batch_end_idx,\n",
    "                                                        total_loss / batch_end_idx, time.time() - start_time))\n",
    "\n",
    "\n",
    "def predict(model, device, x, num=3):\n",
    "    x = torch.as_tensor(x, dtype=torch.float).reshape(-1, 1, 28, 28).to(device)\n",
    "    model.eval()\n",
    "    with torch.no_grad():\n",
    "        output = model(x)\n",
    "        for _x, _output in zip(x, output):\n",
    "            show_img(_x[0].cpu())\n",
    "            results = []\n",
    "            for _, confidence, index in zip(range(num), *torch.sort(_output, descending=True)):\n",
    "                results.append('{:1d}: {:.3f}'.format(index, confidence))\n",
    "            print(', '.join(results))\n",
    "\n",
    "\n",
    "def show_img(x):\n",
    "    plt.xticks([])\n",
    "    plt.yticks([])\n",
    "    plt.grid(False)\n",
    "    plt.imshow(x, cmap=plt.cm.binary)\n",
    "    plt.show()\n",
    "\n",
    "\n",
    "def predict_random_samples(model, device, x, y, row=1, col=4, num=3):\n",
    "    model.eval()\n",
    "    plt.figure(figsize=(15, 8))\n",
    "    with torch.no_grad():\n",
    "        size = min(x.shape[0], row * col)\n",
    "        permute = np.random.randint(x.shape[0] - 1, size=size)\n",
    "        x = x[permute].reshape(-1, 1, 28, 28)\n",
    "        y = y[permute]\n",
    "        output = model(torch.as_tensor(x, dtype=torch.float).to(device))\n",
    "        for idx, _x, _y, _output in zip(range(1, size + 1), x, y, output):\n",
    "            result = []\n",
    "            for _, c, l in zip(range(num), *torch.sort(_output, descending=True)):\n",
    "                result.append('{:1d}: {:.2f}'.format(l, c))\n",
    "            plt.subplot(row, col, idx)\n",
    "            plt.xticks([])\n",
    "            plt.yticks([])\n",
    "            plt.imshow(_x[0], cmap=plt.cm.binary)\n",
    "            plt.xlabel('[{}]\\n(expected: {})'.format(', '.join(result), _y))\n",
    "    plt.show()\n",
    "\n",
    "\n",
    "def save_model(model, name='model.pt'):\n",
    "    torch.save(model.state_dict(), name)\n",
    "\n",
    "\n",
    "def print_cuda_mem():\n",
    "    print(\"CUDA:0 - {:8.6f} GB\".format(torch.cuda.memory_allocated()/2**(10*3)))"
   ]
  },
  {
   "cell_type": "markdown",
   "metadata": {
    "_cell_guid": "e824bfa1-7524-4831-8a8f-cf0d327fc734",
    "_uuid": "45f4ae79-054f-44bb-af62-40fcdb4b3337"
   },
   "source": [
    "## MNIST"
   ]
  },
  {
   "cell_type": "code",
   "execution_count": 5,
   "metadata": {
    "_cell_guid": "2a25e940-f184-4051-8b9b-5363c3e9b05e",
    "_uuid": "e7ba1bc3-834d-472e-a33e-44a95091fe4d"
   },
   "outputs": [],
   "source": [
    "# load mnist dataset\n",
    "mnist_x_train = parse_image('../input/mnist-database-of-handwritten-digits/train-images-idx3-ubyte/train-images-idx3-ubyte')\n",
    "mnist_y_train = parse_label('../input/mnist-database-of-handwritten-digits/train-labels-idx1-ubyte/train-labels-idx1-ubyte')\n",
    "mnist_x_test  = parse_image('../input/mnist-database-of-handwritten-digits/t10k-images-idx3-ubyte/t10k-images-idx3-ubyte')\n",
    "mnist_y_test  = parse_label('../input/mnist-database-of-handwritten-digits/t10k-labels-idx1-ubyte/t10k-labels-idx1-ubyte')"
   ]
  },
  {
   "cell_type": "code",
   "execution_count": 6,
   "metadata": {
    "_cell_guid": "14326af8-f927-40ce-a884-0217d949ef0c",
    "_uuid": "c30ff9d2-67f1-455d-be95-dcbfd168511e"
   },
   "outputs": [
    {
     "name": "stdout",
     "output_type": "stream",
     "text": [
      "Training\n",
      " 0: loss =   0.3961,      1.7458s\n",
      " 1: loss =   0.2373,      0.9503s\n",
      " 2: loss =   0.1590,      0.9596s\n",
      " 3: loss =   0.1688,      0.9510s\n",
      " 4: loss =   0.2185,      0.9494s\n",
      " 5: loss =   0.0847,      0.9461s\n",
      " 6: loss =   0.0765,      0.9457s\n",
      " 7: loss =   0.0694,      0.9911s\n",
      " 8: loss =   0.0650,      0.9643s\n",
      " 9: loss =   0.0935,      0.9541s\n",
      "10: loss =   0.0488,      0.9544s\n",
      "11: loss =   0.0604,      0.9569s\n",
      "12: loss =   0.0502,      0.9507s\n",
      "13: loss =   0.0378,      0.9960s\n",
      "14: loss =   0.0489,      0.9521s\n",
      "15: loss =   0.0305,      0.9652s\n",
      "16: loss =   0.0290,      0.9489s\n",
      "17: loss =   0.0401,      0.9527s\n",
      "18: loss =   0.1135,      0.9551s\n",
      "19: loss =   0.0325,      0.9445s\n",
      "20: loss =   0.0159,      0.9561s\n",
      "21: loss =   0.0228,      0.9478s\n",
      "22: loss =   0.0203,      0.9449s\n",
      "23: loss =   0.0189,      0.9445s\n",
      "24: loss =   0.0346,      0.9511s\n",
      "25: loss =   0.0240,      0.9716s\n",
      "26: loss =   0.0308,      0.9479s\n",
      "27: loss =   0.0178,      0.9482s\n",
      "28: loss =   0.0138,      0.9449s\n",
      "29: loss =   0.0174,      0.9491s\n",
      "30: loss =   0.0151,      0.9562s\n",
      "31: loss =   0.0115,      0.9484s\n",
      "Test: 9894/10000 = 0.9894, 0.0335, 0.0704s\n"
     ]
    }
   ],
   "source": [
    "mnist_num_class = 10\n",
    "mnist_model = NeuralNet(mnist_num_class).to(device)\n",
    "mnist_optimizer = optim.Adadelta(params=mnist_model.parameters(), lr=0.01)\n",
    "\n",
    "train(mnist_model, mnist_optimizer, device, mnist_x_train, mnist_y_train, BATCH_SIZE=1000, EPOCH_SIZE=32)\n",
    "evaluate(mnist_model, device, mnist_x_test, mnist_y_test)"
   ]
  },
  {
   "cell_type": "code",
   "execution_count": 7,
   "metadata": {
    "_cell_guid": "ec9b884e-8920-430d-8ff4-ff8dc60b5f06",
    "_uuid": "deebc1d1-6f39-4bf1-bba6-aa89f72c34ea"
   },
   "outputs": [
    {
     "data": {
      "image/png": "[encoded data removed]",
      "text/plain": [
       "<Figure size 1080x576 with 8 Axes>"
      ]
     },
     "metadata": {},
     "output_type": "display_data"
    }
   ],
   "source": [
    "# predict some random samples from test set\n",
    "# then print top results(label and confidence) with expected labels\n",
    "predict_random_samples(mnist_model, device, mnist_x_test, mnist_y_test, 2, 4)"
   ]
  },
  {
   "cell_type": "code",
   "execution_count": 8,
   "metadata": {},
   "outputs": [],
   "source": [
    "save_model(mnist_model, 'mnist_model.pt')"
   ]
  },
  {
   "cell_type": "markdown",
   "metadata": {
    "_cell_guid": "1235e8dd-aab5-4f73-8e52-c08a1d118e2e",
    "_uuid": "03ca2588-0209-427a-949c-3ddc99eea894"
   },
   "source": [
    "## EMNIST"
   ]
  },
  {
   "cell_type": "code",
   "execution_count": 9,
   "metadata": {
    "_cell_guid": "5b19e7dc-6e27-4c4a-bed0-e9ce83f1a3c2",
    "_uuid": "912bac56-2976-423d-a392-428ec96a7f64"
   },
   "outputs": [
    {
     "name": "stdout",
     "output_type": "stream",
     "text": [
      "Training\n",
      " 0: loss =   0.1269,      3.8301s\n",
      " 1: loss =   0.0510,      3.8247s\n",
      " 2: loss =   0.0509,      3.8032s\n",
      " 3: loss =   0.0394,      3.8228s\n",
      " 4: loss =   0.0332,      3.8248s\n",
      " 5: loss =   0.0557,      3.8077s\n",
      " 6: loss =   0.0303,      3.7995s\n",
      " 7: loss =   0.0282,      3.7905s\n",
      " 8: loss =   0.0164,      3.8769s\n",
      " 9: loss =   0.0123,      3.9004s\n",
      "10: loss =   0.0103,      3.9011s\n",
      "11: loss =   0.0268,      3.8021s\n",
      "12: loss =   0.0266,      3.8369s\n",
      "13: loss =   0.0076,      3.8152s\n",
      "14: loss =   0.0157,      3.8060s\n",
      "15: loss =   0.0098,      3.7951s\n",
      "16: loss =   0.0152,      3.7972s\n",
      "17: loss =   0.0095,      3.8010s\n",
      "18: loss =   0.0199,      3.7997s\n",
      "19: loss =   0.0067,      3.8187s\n",
      "20: loss =   0.0061,      3.8049s\n",
      "21: loss =   0.0094,      3.8137s\n",
      "22: loss =   0.0144,      3.8550s\n",
      "23: loss =   0.0153,      3.8095s\n",
      "24: loss =   0.0126,      3.8393s\n",
      "25: loss =   0.0049,      3.9055s\n",
      "26: loss =   0.0058,      3.8345s\n",
      "27: loss =   0.0078,      3.8170s\n",
      "28: loss =   0.0104,      3.7971s\n",
      "29: loss =   0.0063,      3.8381s\n",
      "30: loss =   0.0154,      3.8105s\n",
      "31: loss =   0.0025,      3.8082s\n",
      "Test: 39781/40000 = 0.9945, 0.0203, 0.2633s\n"
     ]
    }
   ],
   "source": [
    "# load emnist dataset\n",
    "emnist_x_train = parse_image('../input/emnist-database-of-handwritten-characters/gzip/gzip/emnist-digits-train-images-idx3-ubyte.gz')\n",
    "emnist_y_train = parse_label('../input/emnist-database-of-handwritten-characters/gzip/gzip/emnist-digits-train-labels-idx1-ubyte.gz')\n",
    "emnist_x_test  = parse_image('../input/emnist-database-of-handwritten-characters/gzip/gzip/emnist-digits-test-images-idx3-ubyte.gz')\n",
    "emnist_y_test  = parse_label('../input/emnist-database-of-handwritten-characters/gzip/gzip/emnist-digits-test-labels-idx1-ubyte.gz')\n",
    "\n",
    "# get emnist_num_class\n",
    "wc_num_lines = !wc --lines '../input/emnist-database-of-handwritten-characters/gzip/gzip/emnist-digits-mapping.txt'\n",
    "emnist_num_class = int(wc_num_lines[0].split()[0])\n",
    "\n",
    "# we are transposing each element, because we are reading row-wise(as per mnist) but emnist is stored as col-wise\n",
    "emnist_x_train = np.transpose(emnist_x_train, (0, 2, 1))\n",
    "emnist_x_test  = np.transpose(emnist_x_test , (0, 2, 1))\n",
    "\n",
    "emnist_model = NeuralNet(emnist_num_class).to(device)\n",
    "emnist_optimizer = optim.Adadelta(params=emnist_model.parameters(), lr=0.01)\n",
    "\n",
    "train(emnist_model, emnist_optimizer, device, emnist_x_train, emnist_y_train, BATCH_SIZE=1000, EPOCH_SIZE=32)\n",
    "evaluate(emnist_model, device, emnist_x_test, emnist_y_test)"
   ]
  },
  {
   "cell_type": "code",
   "execution_count": 10,
   "metadata": {
    "_cell_guid": "b804f1b7-c576-4b33-9dd3-647a94e40046",
    "_uuid": "49070489-ab42-4fab-9574-7b65b51909ad"
   },
   "outputs": [
    {
     "data": {
      "image/png": "[encoded data removed]",
      "text/plain": [
       "<Figure size 1080x576 with 8 Axes>"
      ]
     },
     "metadata": {},
     "output_type": "display_data"
    }
   ],
   "source": [
    "predict_random_samples(emnist_model, device, emnist_x_test, emnist_y_test, 2, 4)"
   ]
  },
  {
   "cell_type": "code",
   "execution_count": 11,
   "metadata": {},
   "outputs": [],
   "source": [
    "save_model(emnist_model, 'emnist_model.pt')"
   ]
  },
  {
   "cell_type": "markdown",
   "metadata": {},
   "source": [
    "## misc"
   ]
  },
  {
   "cell_type": "code",
   "execution_count": 12,
   "metadata": {},
   "outputs": [
    {
     "name": "stdout",
     "output_type": "stream",
     "text": [
      "Test: 36555/40000 = 0.9139, 0.3286, 0.2702s\n"
     ]
    }
   ],
   "source": [
    "# evaluate mnist_model on emnist dataset\n",
    "evaluate(mnist_model, device, emnist_x_test, emnist_y_test)"
   ]
  },
  {
   "cell_type": "code",
   "execution_count": 13,
   "metadata": {},
   "outputs": [
    {
     "name": "stdout",
     "output_type": "stream",
     "text": [
      "Test: 9683/10000 = 0.9683, 0.0936, 0.0638s\n"
     ]
    }
   ],
   "source": [
    "# evaluate emnist_model on mnist dataset\n",
    "evaluate(emnist_model, device, mnist_x_test, mnist_y_test)"
   ]
  }
 ],
 "metadata": {
  "kernelspec": {
   "display_name": "Python 3",
   "language": "python",
   "name": "python3"
  },
  "language_info": {
   "codemirror_mode": {
    "name": "ipython",
    "version": 3
   },
   "file_extension": ".py",
   "mimetype": "text/x-python",
   "name": "python",
   "nbconvert_exporter": "python",
   "pygments_lexer": "ipython3",
   "version": "3.6.6"
  }
 },
 "nbformat": 4,
 "nbformat_minor": 4
}
